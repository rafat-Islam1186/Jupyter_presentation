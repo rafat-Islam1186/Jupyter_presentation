{
 "cells": [
  {
   "cell_type": "markdown",
   "metadata": {},
   "source": [
    "to make header start with \"#\" sign\n",
    " \n",
    "to control the size of the  font of header<br/>\n",
    "# header\n",
    "## sub  header\n",
    "###### Sub Sub header "
   ]
  },
  {
   "cell_type": "markdown",
   "metadata": {},
   "source": [
    " <span style=\"color: #00;font-family: Babas; font-size: 1em;\">TEST</span>"
   ]
  },
  {
   "cell_type": "markdown",
   "metadata": {},
   "source": [
    "For making a newline use <br/>\n",
    "\n",
    "to make italics  \"_one underscores_\" or  \"*one asterisks*\" <br/>\n",
    "to make it bold use \"__two underscores__\" or \"**two asterisks**\"  <br/>\n",
    "Combine the two wth a mix between __underscore and *asterisks*__  <br/>\n",
    "\n",
    "to make it crossout, use two tildas ~~crossout~~\n",
    "\n"
   ]
  },
  {
   "cell_type": "markdown",
   "metadata": {},
   "source": [
    "## For making a link reference\n",
    "\n",
    "### this below link is a cheat-sheet link for the markdown language\n",
    "\n",
    "https://github.com/adam-p/markdown-here/wiki/Markdown-Cheatsheet\n",
    "\n",
    "### this is the wiki link for the markdown language\n",
    "\n",
    "https://en.wikipedia.org/wiki/Markdown\n",
    "\n"
   ]
  },
  {
   "cell_type": "markdown",
   "metadata": {},
   "source": []
  },
  {
   "cell_type": "code",
   "execution_count": 2,
   "metadata": {},
   "outputs": [
    {
     "data": {
      "text/html": [
       " \n",
       "<script>\n",
       "  function code_toggle() {\n",
       "    if (code_shown){\n",
       "      $('div.input').hide('500');\n",
       "      $('#toggleButton').val('Show Code')\n",
       "    } else {\n",
       "      $('div.input').show('500');\n",
       "      $('#toggleButton').val('Hide Code')\n",
       "    }\n",
       "    code_shown = !code_shown\n",
       "  }\n",
       "\n",
       "  $( document ).ready(function(){\n",
       "    code_shown=false;\n",
       "    $('div.input').hide()\n",
       "  });\n",
       "</script>\n",
       "<form action=\"javascript:code_toggle()\"><input type=\"submit\" id=\"toggleButton\" value=\"Show Code\"></form> "
      ],
      "text/plain": [
       "<IPython.core.display.HTML object>"
      ]
     },
     "execution_count": 2,
     "metadata": {},
     "output_type": "execute_result"
    }
   ],
   "source": [
    "from IPython.display import HTML\n",
    "HTML(''' \n",
    "<script>\n",
    "  function code_toggle() {\n",
    "    if (code_shown){\n",
    "      $('div.input').hide('500');\n",
    "      $('#toggleButton').val('Show Code')\n",
    "    } else {\n",
    "      $('div.input').show('500');\n",
    "      $('#toggleButton').val('Hide Code')\n",
    "    }\n",
    "    code_shown = !code_shown\n",
    "  }\n",
    "\n",
    "  $( document ).ready(function(){\n",
    "    code_shown=false;\n",
    "    $('div.input').hide()\n",
    "  });\n",
    "</script>\n",
    "<form action=\"javascript:code_toggle()\"><input type=\"submit\" id=\"toggleButton\" value=\"Show Code\"></form> ''')"
   ]
  },
  {
   "cell_type": "code",
   "execution_count": 5,
   "metadata": {},
   "outputs": [],
   "source": [
    "#\n",
    "import numpy\n",
    "import scipy\n",
    "import ipywidgets\n",
    "import IPython\n",
    "import math"
   ]
  },
  {
   "cell_type": "code",
   "execution_count": 8,
   "metadata": {},
   "outputs": [],
   "source": [
    "x=15"
   ]
  },
  {
   "cell_type": "code",
   "execution_count": 9,
   "metadata": {},
   "outputs": [
    {
     "name": "stdout",
     "output_type": "stream",
     "text": [
      "0.5086515427025288\n",
      "0.21821833749046438\n",
      "0.9329024497454492\n",
      "0.5897337476367039\n",
      "0.0518874180385942\n",
      "0.560215580067931\n",
      "0.7426032450285045\n",
      "0.7565798173816087\n",
      "0.696173948492455\n",
      "0.6653493402191664\n"
     ]
    }
   ],
   "source": [
    "# This is the python module which contains the \n",
    "import random\n",
    "\n",
    "# This prints 10 random numbers\n",
    "\n",
    "for _ in range(10):\n",
    "    print(random.uniform(0,1))"
   ]
  },
  {
   "cell_type": "code",
   "execution_count": 11,
   "metadata": {},
   "outputs": [
    {
     "data": {
      "application/vnd.jupyter.widget-view+json": {
       "model_id": "5363e2dd1bed4596805e2911a6175dcf",
       "version_major": 2,
       "version_minor": 0
      },
      "text/html": [
       "<p>Failed to display Jupyter Widget of type <code>IntSlider</code>.</p>\n",
       "<p>\n",
       "  If you're reading this message in the Jupyter Notebook or JupyterLab Notebook, it may mean\n",
       "  that the widgets JavaScript is still loading. If this message persists, it\n",
       "  likely means that the widgets JavaScript library is either not installed or\n",
       "  not enabled. See the <a href=\"https://ipywidgets.readthedocs.io/en/stable/user_install.html\">Jupyter\n",
       "  Widgets Documentation</a> for setup instructions.\n",
       "</p>\n",
       "<p>\n",
       "  If you're reading this message in another frontend (for example, a static\n",
       "  rendering on GitHub or <a href=\"https://nbviewer.jupyter.org/\">NBViewer</a>),\n",
       "  it may mean that your frontend doesn't currently support widgets.\n",
       "</p>\n"
      ],
      "text/plain": [
       "IntSlider(value=10, description='Size of set', max=75000, min=10)"
      ]
     },
     "metadata": {},
     "output_type": "display_data"
    },
    {
     "data": {
      "application/vnd.jupyter.widget-view+json": {
       "model_id": "9fe86d3bd7f74645bfa5d9440b6c75d9",
       "version_major": 2,
       "version_minor": 0
      },
      "text/html": [
       "<p>Failed to display Jupyter Widget of type <code>Button</code>.</p>\n",
       "<p>\n",
       "  If you're reading this message in the Jupyter Notebook or JupyterLab Notebook, it may mean\n",
       "  that the widgets JavaScript is still loading. If this message persists, it\n",
       "  likely means that the widgets JavaScript library is either not installed or\n",
       "  not enabled. See the <a href=\"https://ipywidgets.readthedocs.io/en/stable/user_install.html\">Jupyter\n",
       "  Widgets Documentation</a> for setup instructions.\n",
       "</p>\n",
       "<p>\n",
       "  If you're reading this message in another frontend (for example, a static\n",
       "  rendering on GitHub or <a href=\"https://nbviewer.jupyter.org/\">NBViewer</a>),\n",
       "  it may mean that your frontend doesn't currently support widgets.\n",
       "</p>\n"
      ],
      "text/plain": [
       "Button(description='Draw Numbers', style=ButtonStyle())"
      ]
     },
     "metadata": {},
     "output_type": "display_data"
    },
    {
     "data": {
      "image/png": "[encoded data removed]",
      "text/plain": [
       "<Figure size 432x288 with 1 Axes>"
      ]
     },
     "metadata": {},
     "output_type": "display_data"
    }
   ],
   "source": [
    "# this imports the random number generator \n",
    "import random\n",
    "%matplotlib inline\n",
    "import matplotlib as mpl\n",
    "import numpy as np\n",
    "import matplotlib.pyplot as plt \n",
    "import IPython\n",
    "from IPython import display \n",
    "from ipywidgets import widgets\n",
    "from ipywidgets import interactive\n",
    "\n",
    "\n",
    "def Random_Histogram(N):\n",
    "    fig = plt.gcf()\n",
    "    fig.show()\n",
    "    fig.canvas.draw()\n",
    "    plt.style.use('ggplot')\n",
    "    run = 0\n",
    "    \n",
    "    plot_step = 1\n",
    "    \n",
    "    random_numbers = []\n",
    "    \n",
    "    for i in range(N):\n",
    "        run += 1 \n",
    "        r = random.uniform(0,1)\n",
    "        random_numbers.append(r)\n",
    "        \n",
    "        if run >= plot_step or i == N-1:\n",
    "            # Speed the plot up as we go so we can\n",
    "            # see the variations at the beginning and cruise\n",
    "            # through the \"boring\" stuff. \n",
    "           \n",
    "            plot_step = i/2\n",
    "            \n",
    "            plt.gca().cla()\n",
    "            plt.ylabel('Probability')\n",
    "            plt.ylim([0,0.2])\n",
    "            plt.xlim([-0.05,1.05])\n",
    "            \n",
    "            # This is simply to scale our boxes from counts to probability\n",
    "            weights = np.ones_like(random_numbers)/float(len(random_numbers))\n",
    "            plt.hist(random_numbers,\n",
    "                     bins=10, \n",
    "                     weights=weights, \n",
    "                     label=\"Drawn Numbers\",\n",
    "                     edgecolor='black', linewidth=1.2)\n",
    "            \n",
    "            plt.title(\" \".join([str(i+1), \"Numbers From Set\"]))\n",
    "           \n",
    "            # Generally it's frowned upon to use 'magic numbers'\n",
    "            # such as the ones below. However, this is what defines \n",
    "            # our expected uniform distribution. The 0.1 limit for y comes \n",
    "            # from the fact that we have 10 bins in our histogram \n",
    "            # (10 bars in the bar graph). If each bin is equally probable, \n",
    "            # then they should each have a probability of 1/(number of bins), \n",
    "            # which is 1/10 for us. \n",
    "            plt.plot([0,0 ,1,1],[0,.1,.1,0], linewidth = 3, label = \"Expected\")\n",
    "            \n",
    "            plt.legend(loc='center left', bbox_to_anchor=(1, .8))\n",
    "              \n",
    " \n",
    "            # This helps us get ready for the creation of the new frame\n",
    "            display.clear_output(wait=True)\n",
    "            display.display(plt.gcf()) \n",
    "            # reset counter for if we want to plot or not\n",
    "            run = 0\n",
    "\n",
    "            \n",
    "    display.clear_output(wait=False)\n",
    "\n",
    "N = widgets.IntSlider(value = 100, min=10, max = 75000, description=\"Size of set\")\n",
    "start = widgets.Button(description = \"Draw Numbers\")\n",
    "\n",
    "    \n",
    "def PlotUniform(b):\n",
    "    Random_Histogram(N.value)\n",
    "    IPython.display.display(N, start)\n",
    "\n",
    "start.on_click(PlotUniform)\n",
    "\n",
    "IPython.display.display(N, start)\n"
   ]
  },
  {
   "cell_type": "code",
   "execution_count": 12,
   "metadata": {},
   "outputs": [
    {
     "data": {
      "image/png": "[encoded data removed]",
      "text/plain": [
       "<Figure size 432x288 with 1 Axes>"
      ]
     },
     "metadata": {},
     "output_type": "display_data"
    }
   ],
   "source": [
    "plt.style.use('ggplot')\n",
    "\n",
    "plt.text(0.15, 5,\"Heads\",size=20)\n",
    "plt.text(0.65, 5,\"Tails\", size=20)\n",
    "plt.ylim([0,20])\n",
    "plt.ylabel(\"Probability (%)\", size=20)\n",
    "plt.xlabel(\"Random Number Value\",size=20)\n",
    "plt.plot([0,0 ,1,1],[0,10,10,0], linewidth = 3, label = \"Uniform Distribution\")\n",
    "plt.plot([0.5,0.5], [0,20], linewidth = 3, c='b') \n",
    "plt.tick_params(axis='both', which='major', labelsize=18)\n",
    "\n",
    "\n",
    "plt.show()"
   ]
  },
  {
   "cell_type": "code",
   "execution_count": null,
   "metadata": {},
   "outputs": [],
   "source": []
  }
 ],
 "metadata": {
  "kernelspec": {
   "display_name": "Python 3",
   "language": "python",
   "name": "python3"
  },
  "language_info": {
   "codemirror_mode": {
    "name": "ipython",
    "version": 3
   },
   "file_extension": ".py",
   "mimetype": "text/x-python",
   "name": "python",
   "nbconvert_exporter": "python",
   "pygments_lexer": "ipython3",
   "version": "3.6.4"
  }
 },
 "nbformat": 4,
 "nbformat_minor": 2
}
